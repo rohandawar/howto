{
 "cells": [
  {
   "cell_type": "markdown",
   "id": "425295c6",
   "metadata": {
    "papermill": {
     "duration": 0.014814,
     "end_time": "2022-04-30T10:48:39.310073",
     "exception": false,
     "start_time": "2022-04-30T10:48:39.295259",
     "status": "completed"
    },
    "tags": []
   },
   "source": [
    "## Pipelines in Sklearn\n",
    "_In this notebook, I am trying to implement pipelines from sklearn_"
   ]
  },
  {
   "cell_type": "markdown",
   "id": "bdc92c27",
   "metadata": {
    "papermill": {
     "duration": 0.013512,
     "end_time": "2022-04-30T10:48:39.338131",
     "exception": false,
     "start_time": "2022-04-30T10:48:39.324619",
     "status": "completed"
    },
    "tags": []
   },
   "source": [
    "Pipelines are an amazing way to apply the data processing techniques & maintiain clean code, in this notebook, we try to implement the Pipeline on **IRIS dataset**"
   ]
  },
  {
   "cell_type": "code",
   "execution_count": 1,
   "id": "992963c3",
   "metadata": {
    "execution": {
     "iopub.execute_input": "2022-04-30T10:48:39.368527Z",
     "iopub.status.busy": "2022-04-30T10:48:39.367759Z",
     "iopub.status.idle": "2022-04-30T10:48:40.953163Z",
     "shell.execute_reply": "2022-04-30T10:48:40.952402Z"
    },
    "papermill": {
     "duration": 1.603988,
     "end_time": "2022-04-30T10:48:40.955907",
     "exception": false,
     "start_time": "2022-04-30T10:48:39.351919",
     "status": "completed"
    },
    "tags": []
   },
   "outputs": [],
   "source": [
    "#import the libs \n",
    "from sklearn.datasets import load_iris\n",
    "from sklearn.model_selection import train_test_split\n",
    "from sklearn.preprocessing import StandardScaler\n",
    "from sklearn.decomposition import PCA\n",
    "from sklearn.pipeline import Pipeline\n",
    "from sklearn.linear_model import LogisticRegression\n",
    "from sklearn.tree import DecisionTreeClassifier\n",
    "from sklearn.ensemble import RandomForestClassifier"
   ]
  },
  {
   "cell_type": "markdown",
   "id": "45ec7b83",
   "metadata": {
    "papermill": {
     "duration": 0.013174,
     "end_time": "2022-04-30T10:48:40.984741",
     "exception": false,
     "start_time": "2022-04-30T10:48:40.971567",
     "status": "completed"
    },
    "tags": []
   },
   "source": [
    "I have imported all the libraries required for loading the data & further preprocessing."
   ]
  },
  {
   "cell_type": "code",
   "execution_count": 2,
   "id": "c0b92422",
   "metadata": {
    "execution": {
     "iopub.execute_input": "2022-04-30T10:48:41.015156Z",
     "iopub.status.busy": "2022-04-30T10:48:41.014541Z",
     "iopub.status.idle": "2022-04-30T10:48:41.028226Z",
     "shell.execute_reply": "2022-04-30T10:48:41.027259Z"
    },
    "papermill": {
     "duration": 0.032446,
     "end_time": "2022-04-30T10:48:41.030774",
     "exception": false,
     "start_time": "2022-04-30T10:48:40.998328",
     "status": "completed"
    },
    "tags": []
   },
   "outputs": [],
   "source": [
    "#load the data\n",
    "iris_df = load_iris()"
   ]
  },
  {
   "cell_type": "code",
   "execution_count": 3,
   "id": "4141ec3b",
   "metadata": {
    "execution": {
     "iopub.execute_input": "2022-04-30T10:48:41.061443Z",
     "iopub.status.busy": "2022-04-30T10:48:41.060791Z",
     "iopub.status.idle": "2022-04-30T10:48:41.074944Z",
     "shell.execute_reply": "2022-04-30T10:48:41.073886Z"
    },
    "papermill": {
     "duration": 0.033351,
     "end_time": "2022-04-30T10:48:41.077803",
     "exception": false,
     "start_time": "2022-04-30T10:48:41.044452",
     "status": "completed"
    },
    "tags": []
   },
   "outputs": [
    {
     "data": {
      "text/plain": [
       "((105, 4), (45, 4), (105,), (45,))"
      ]
     },
     "execution_count": 3,
     "metadata": {},
     "output_type": "execute_result"
    }
   ],
   "source": [
    "#train test split\n",
    "X_train,X_test,y_train,y_test = train_test_split(iris_df.data, #X\n",
    "                                                iris_df.target,#y\n",
    "                                                test_size=0.30,#Size of test data\n",
    "                                                train_size=0.70,#Size of train data\n",
    "                                                random_state=0) # Mutliple runs should not skew the results\n",
    "X_train.shape,X_test.shape,y_train.shape,y_test.shape\n"
   ]
  },
  {
   "cell_type": "markdown",
   "id": "75e981b2",
   "metadata": {
    "papermill": {
     "duration": 0.014512,
     "end_time": "2022-04-30T10:48:41.106656",
     "exception": false,
     "start_time": "2022-04-30T10:48:41.092144",
     "status": "completed"
    },
    "tags": []
   },
   "source": [
    "Now, since we have the data, lets create the pipeline, the pipeline, would have the following stages/steps\n",
    "\n",
    "- Data pre-processing using standard Scaler.\n",
    "- Dimensionality reduction using PCA.\n",
    "- Apply classification.\n",
    "\n",
    "Lets Dig in!!\n"
   ]
  },
  {
   "cell_type": "code",
   "execution_count": 4,
   "id": "e780bc77",
   "metadata": {
    "execution": {
     "iopub.execute_input": "2022-04-30T10:48:41.137797Z",
     "iopub.status.busy": "2022-04-30T10:48:41.137106Z",
     "iopub.status.idle": "2022-04-30T10:48:41.143625Z",
     "shell.execute_reply": "2022-04-30T10:48:41.142554Z"
    },
    "papermill": {
     "duration": 0.025374,
     "end_time": "2022-04-30T10:48:41.146366",
     "exception": false,
     "start_time": "2022-04-30T10:48:41.120992",
     "status": "completed"
    },
    "tags": []
   },
   "outputs": [],
   "source": [
    "#data in pipelines would be defined in tuples such as \n",
    "#(object, class)\n",
    "#pipeline for Logistic Regression\n",
    "pipeline_lr = Pipeline([\n",
    "    ('scalar1', StandardScaler()),\n",
    "    ('pca1',PCA(n_components=2)),\n",
    "    ('lr_classifier', LogisticRegression(random_state=0))\n",
    "])"
   ]
  },
  {
   "cell_type": "code",
   "execution_count": 5,
   "id": "ad37ff72",
   "metadata": {
    "execution": {
     "iopub.execute_input": "2022-04-30T10:48:41.177329Z",
     "iopub.status.busy": "2022-04-30T10:48:41.176390Z",
     "iopub.status.idle": "2022-04-30T10:48:41.182091Z",
     "shell.execute_reply": "2022-04-30T10:48:41.181148Z"
    },
    "papermill": {
     "duration": 0.023381,
     "end_time": "2022-04-30T10:48:41.184198",
     "exception": false,
     "start_time": "2022-04-30T10:48:41.160817",
     "status": "completed"
    },
    "tags": []
   },
   "outputs": [],
   "source": [
    "#pipeline for Decision Trees\n",
    "pipeline_dt = Pipeline([\n",
    "    ('scalar2', StandardScaler()),\n",
    "    ('pca2',PCA(n_components=2)),\n",
    "    ('dt_classifier', DecisionTreeClassifier(random_state=0))\n",
    "])"
   ]
  },
  {
   "cell_type": "code",
   "execution_count": 6,
   "id": "a4e57a42",
   "metadata": {
    "execution": {
     "iopub.execute_input": "2022-04-30T10:48:41.213882Z",
     "iopub.status.busy": "2022-04-30T10:48:41.213522Z",
     "iopub.status.idle": "2022-04-30T10:48:41.220008Z",
     "shell.execute_reply": "2022-04-30T10:48:41.218899Z"
    },
    "papermill": {
     "duration": 0.02414,
     "end_time": "2022-04-30T10:48:41.222324",
     "exception": false,
     "start_time": "2022-04-30T10:48:41.198184",
     "status": "completed"
    },
    "tags": []
   },
   "outputs": [],
   "source": [
    "#pipeline for Random Forest\n",
    "pipeline_rf = Pipeline([\n",
    "    ('scalar3', StandardScaler()),\n",
    "    ('pca3',PCA(n_components=2)),\n",
    "    ('rf_classifier', RandomForestClassifier(n_estimators=1000,random_state=1, max_depth=10))\n",
    "])"
   ]
  },
  {
   "cell_type": "markdown",
   "id": "3d3535f1",
   "metadata": {
    "papermill": {
     "duration": 0.013575,
     "end_time": "2022-04-30T10:48:41.250051",
     "exception": false,
     "start_time": "2022-04-30T10:48:41.236476",
     "status": "completed"
    },
    "tags": []
   },
   "source": [
    "Here, I plan to make a list of pipelines & iterate (Loop Through :)) through the list to find the best pipeline/Algorithm for this use case"
   ]
  },
  {
   "cell_type": "code",
   "execution_count": 7,
   "id": "5d18c6fa",
   "metadata": {
    "execution": {
     "iopub.execute_input": "2022-04-30T10:48:41.279869Z",
     "iopub.status.busy": "2022-04-30T10:48:41.279494Z",
     "iopub.status.idle": "2022-04-30T10:48:41.283474Z",
     "shell.execute_reply": "2022-04-30T10:48:41.282830Z"
    },
    "papermill": {
     "duration": 0.021425,
     "end_time": "2022-04-30T10:48:41.285449",
     "exception": false,
     "start_time": "2022-04-30T10:48:41.264024",
     "status": "completed"
    },
    "tags": []
   },
   "outputs": [],
   "source": [
    "#list of pipelines\n",
    "pipelines = [pipeline_lr,pipeline_dt, pipeline_rf]"
   ]
  },
  {
   "cell_type": "code",
   "execution_count": 8,
   "id": "d0276835",
   "metadata": {
    "execution": {
     "iopub.execute_input": "2022-04-30T10:48:41.316183Z",
     "iopub.status.busy": "2022-04-30T10:48:41.315837Z",
     "iopub.status.idle": "2022-04-30T10:48:43.100667Z",
     "shell.execute_reply": "2022-04-30T10:48:43.099532Z"
    },
    "papermill": {
     "duration": 1.804304,
     "end_time": "2022-04-30T10:48:43.103846",
     "exception": false,
     "start_time": "2022-04-30T10:48:41.299542",
     "status": "completed"
    },
    "tags": []
   },
   "outputs": [
    {
     "name": "stdout",
     "output_type": "stream",
     "text": [
      "Logistic Regression accuray on test data is 0.8666666666666667 \n",
      "Decision Trees accuray on test data is 0.9111111111111111 \n",
      "Random Forest Classifier accuray on test data is 0.9111111111111111 \n"
     ]
    }
   ],
   "source": [
    "#Lets fit the pipelines\n",
    "for pipe in pipelines:\n",
    "    pipe.fit(X_train, y_train)\n",
    "\n",
    "#lets define a pipe dictnary to print the data\n",
    "pipe_dict = {\n",
    "    0:'Logistic Regression',\n",
    "    1:'Decision Trees',\n",
    "    2:'Random Forest Classifier'\n",
    "}\n",
    "\n",
    "#lets print the score of the different piplines\n",
    "for i,model in enumerate(pipelines):\n",
    "    print('{} accuray on test data is {} '.format(pipe_dict[i], model.score(X_test,y_test)))"
   ]
  },
  {
   "cell_type": "markdown",
   "id": "19982c90",
   "metadata": {
    "papermill": {
     "duration": 0.014177,
     "end_time": "2022-04-30T10:48:43.133240",
     "exception": false,
     "start_time": "2022-04-30T10:48:43.119063",
     "status": "completed"
    },
    "tags": []
   },
   "source": [
    "This is it! we have pre-processed the data and check various models in a single step."
   ]
  },
  {
   "cell_type": "markdown",
   "id": "ee4a208b",
   "metadata": {
    "papermill": {
     "duration": 0.013925,
     "end_time": "2022-04-30T10:48:43.161694",
     "exception": false,
     "start_time": "2022-04-30T10:48:43.147769",
     "status": "completed"
    },
    "tags": []
   },
   "source": [
    "# That's All floks!!!"
   ]
  }
 ],
 "metadata": {
  "kernelspec": {
   "display_name": "Python 3",
   "language": "python",
   "name": "python3"
  },
  "language_info": {
   "codemirror_mode": {
    "name": "ipython",
    "version": 3
   },
   "file_extension": ".py",
   "mimetype": "text/x-python",
   "name": "python",
   "nbconvert_exporter": "python",
   "pygments_lexer": "ipython3",
   "version": "3.7.12"
  },
  "papermill": {
   "default_parameters": {},
   "duration": 15.736503,
   "end_time": "2022-04-30T10:48:44.200082",
   "environment_variables": {},
   "exception": null,
   "input_path": "__notebook__.ipynb",
   "output_path": "__notebook__.ipynb",
   "parameters": {},
   "start_time": "2022-04-30T10:48:28.463579",
   "version": "2.3.4"
  }
 },
 "nbformat": 4,
 "nbformat_minor": 5
}
